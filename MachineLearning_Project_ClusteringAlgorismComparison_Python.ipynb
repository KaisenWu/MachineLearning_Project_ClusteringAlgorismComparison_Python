{
  "nbformat": 4,
  "nbformat_minor": 0,
  "metadata": {
    "colab": {
      "provenance": [],
      "mount_file_id": "1USptZd1n76WF1KcjQzZZA0BxzSbKZIMK",
      "authorship_tag": "ABX9TyMXdRumLDVnRyRootmNnFb8",
      "include_colab_link": true
    },
    "kernelspec": {
      "name": "python3",
      "display_name": "Python 3"
    },
    "language_info": {
      "name": "python"
    }
  },
  "cells": [
    {
      "cell_type": "markdown",
      "metadata": {
        "id": "view-in-github",
        "colab_type": "text"
      },
      "source": [
        "<a href=\"https://colab.research.google.com/github/KaisenWu/MachineLearning_Project_ClusteringAlgorismComparison_Python/blob/main/MachineLearning_Project_ClusteringAlgorismComparison_Python.ipynb\" target=\"_parent\"><img src=\"https://colab.research.google.com/assets/colab-badge.svg\" alt=\"Open In Colab\"/></a>"
      ]
    },
    {
      "cell_type": "markdown",
      "source": [
        "# <center>Clustering Algorism Comparison with PCA and Piplines</center>"
      ],
      "metadata": {
        "id": "YGLfFwKIS3EU"
      }
    },
    {
      "cell_type": "markdown",
      "source": [
        "## Project Pverview\n",
        "This project is used to find the best clustering algorism by comparing there evaluation score.\n",
        "The main techniques whcih were used in this projects are:\n",
        "\n",
        "\n",
        "1.   Cluster number analysis by elbow and silhouette method.\n",
        "2.   Principle conponents analysis. (PCA)\n",
        "3.   Data scaling.\n",
        "4.   Data clustering.\n",
        "5.   Clustering algorism evaluation.\n",
        "\n"
      ],
      "metadata": {
        "id": "2uDl7kihTZuS"
      }
    },
    {
      "cell_type": "markdown",
      "source": [
        "## About The Dataset\n",
        "This dataset concludes ths records of the courses."
      ],
      "metadata": {
        "id": "bwdwQGg9VERu"
      }
    },
    {
      "cell_type": "markdown",
      "source": [
        "## Data Loading"
      ],
      "metadata": {
        "id": "8gVc5v4oVoFH"
      }
    },
    {
      "cell_type": "code",
      "execution_count": 1,
      "metadata": {
        "id": "qsdC8WM3wnKs"
      },
      "outputs": [],
      "source": [
        "# Load the libraries.\n",
        "import pandas as pd\n",
        "import numpy as np\n",
        "import seaborn as sns\n",
        "import matplotlib.pyplot as plt\n",
        "%matplotlib inline"
      ]
    },
    {
      "cell_type": "code",
      "source": [
        "# Load the dataframe.\n",
        "df = pd.read_csv('/content/drive/MyDrive/Colab Notebooks/Lab1/course_data_prepared.csv')"
      ],
      "metadata": {
        "id": "7o5vP7lGxbWH"
      },
      "execution_count": 2,
      "outputs": []
    },
    {
      "cell_type": "code",
      "source": [
        "df.head()"
      ],
      "metadata": {
        "colab": {
          "base_uri": "https://localhost:8080/",
          "height": 270
        },
        "id": "U3cYEbowI6Io",
        "outputId": "617b4e81-9793-4d57-af9f-084515f0b395"
      },
      "execution_count": 3,
      "outputs": [
        {
          "output_type": "execute_result",
          "data": {
            "text/plain": [
              "   avg_rating  number_ratings  enrollment  last_updated  lectures   duration  \\\n",
              "0         4.5          2826.0     14269.0         20.10      41.0   7.133333   \n",
              "1         3.3           320.0      2088.0         17.02      72.0   4.133333   \n",
              "2         4.4           991.0      3563.0         20.08      91.0   5.233333   \n",
              "3         4.7           556.0      2263.0         20.10      70.0   4.966667   \n",
              "4         4.3          2060.0     10927.0         20.07     477.0  51.983333   \n",
              "\n",
              "   price  discount  inst_rating  inst_review  inst_student  inst_course  \\\n",
              "0  19.99        88          4.5      11922.0       53659.0         10.0   \n",
              "1  16.99        90          3.3        320.0        4012.0          3.0   \n",
              "2  28.99        77          4.4       2193.0        7422.0          6.0   \n",
              "3  16.99        88          4.6      74745.0      517994.0         42.0   \n",
              "4  20.99        87          4.5     288507.0      988948.0         50.0   \n",
              "\n",
              "   cat_design  cat_development  cat_it_software  cat_personal_hobby  \n",
              "0           0                0                0                   0  \n",
              "1           0                0                0                   0  \n",
              "2           0                0                0                   0  \n",
              "3           0                0                1                   0  \n",
              "4           0                1                0                   0  "
            ],
            "text/html": [
              "\n",
              "  <div id=\"df-ea67342d-7d06-4dda-96f4-1f8bddea59c9\">\n",
              "    <div class=\"colab-df-container\">\n",
              "      <div>\n",
              "<style scoped>\n",
              "    .dataframe tbody tr th:only-of-type {\n",
              "        vertical-align: middle;\n",
              "    }\n",
              "\n",
              "    .dataframe tbody tr th {\n",
              "        vertical-align: top;\n",
              "    }\n",
              "\n",
              "    .dataframe thead th {\n",
              "        text-align: right;\n",
              "    }\n",
              "</style>\n",
              "<table border=\"1\" class=\"dataframe\">\n",
              "  <thead>\n",
              "    <tr style=\"text-align: right;\">\n",
              "      <th></th>\n",
              "      <th>avg_rating</th>\n",
              "      <th>number_ratings</th>\n",
              "      <th>enrollment</th>\n",
              "      <th>last_updated</th>\n",
              "      <th>lectures</th>\n",
              "      <th>duration</th>\n",
              "      <th>price</th>\n",
              "      <th>discount</th>\n",
              "      <th>inst_rating</th>\n",
              "      <th>inst_review</th>\n",
              "      <th>inst_student</th>\n",
              "      <th>inst_course</th>\n",
              "      <th>cat_design</th>\n",
              "      <th>cat_development</th>\n",
              "      <th>cat_it_software</th>\n",
              "      <th>cat_personal_hobby</th>\n",
              "    </tr>\n",
              "  </thead>\n",
              "  <tbody>\n",
              "    <tr>\n",
              "      <th>0</th>\n",
              "      <td>4.5</td>\n",
              "      <td>2826.0</td>\n",
              "      <td>14269.0</td>\n",
              "      <td>20.10</td>\n",
              "      <td>41.0</td>\n",
              "      <td>7.133333</td>\n",
              "      <td>19.99</td>\n",
              "      <td>88</td>\n",
              "      <td>4.5</td>\n",
              "      <td>11922.0</td>\n",
              "      <td>53659.0</td>\n",
              "      <td>10.0</td>\n",
              "      <td>0</td>\n",
              "      <td>0</td>\n",
              "      <td>0</td>\n",
              "      <td>0</td>\n",
              "    </tr>\n",
              "    <tr>\n",
              "      <th>1</th>\n",
              "      <td>3.3</td>\n",
              "      <td>320.0</td>\n",
              "      <td>2088.0</td>\n",
              "      <td>17.02</td>\n",
              "      <td>72.0</td>\n",
              "      <td>4.133333</td>\n",
              "      <td>16.99</td>\n",
              "      <td>90</td>\n",
              "      <td>3.3</td>\n",
              "      <td>320.0</td>\n",
              "      <td>4012.0</td>\n",
              "      <td>3.0</td>\n",
              "      <td>0</td>\n",
              "      <td>0</td>\n",
              "      <td>0</td>\n",
              "      <td>0</td>\n",
              "    </tr>\n",
              "    <tr>\n",
              "      <th>2</th>\n",
              "      <td>4.4</td>\n",
              "      <td>991.0</td>\n",
              "      <td>3563.0</td>\n",
              "      <td>20.08</td>\n",
              "      <td>91.0</td>\n",
              "      <td>5.233333</td>\n",
              "      <td>28.99</td>\n",
              "      <td>77</td>\n",
              "      <td>4.4</td>\n",
              "      <td>2193.0</td>\n",
              "      <td>7422.0</td>\n",
              "      <td>6.0</td>\n",
              "      <td>0</td>\n",
              "      <td>0</td>\n",
              "      <td>0</td>\n",
              "      <td>0</td>\n",
              "    </tr>\n",
              "    <tr>\n",
              "      <th>3</th>\n",
              "      <td>4.7</td>\n",
              "      <td>556.0</td>\n",
              "      <td>2263.0</td>\n",
              "      <td>20.10</td>\n",
              "      <td>70.0</td>\n",
              "      <td>4.966667</td>\n",
              "      <td>16.99</td>\n",
              "      <td>88</td>\n",
              "      <td>4.6</td>\n",
              "      <td>74745.0</td>\n",
              "      <td>517994.0</td>\n",
              "      <td>42.0</td>\n",
              "      <td>0</td>\n",
              "      <td>0</td>\n",
              "      <td>1</td>\n",
              "      <td>0</td>\n",
              "    </tr>\n",
              "    <tr>\n",
              "      <th>4</th>\n",
              "      <td>4.3</td>\n",
              "      <td>2060.0</td>\n",
              "      <td>10927.0</td>\n",
              "      <td>20.07</td>\n",
              "      <td>477.0</td>\n",
              "      <td>51.983333</td>\n",
              "      <td>20.99</td>\n",
              "      <td>87</td>\n",
              "      <td>4.5</td>\n",
              "      <td>288507.0</td>\n",
              "      <td>988948.0</td>\n",
              "      <td>50.0</td>\n",
              "      <td>0</td>\n",
              "      <td>1</td>\n",
              "      <td>0</td>\n",
              "      <td>0</td>\n",
              "    </tr>\n",
              "  </tbody>\n",
              "</table>\n",
              "</div>\n",
              "      <button class=\"colab-df-convert\" onclick=\"convertToInteractive('df-ea67342d-7d06-4dda-96f4-1f8bddea59c9')\"\n",
              "              title=\"Convert this dataframe to an interactive table.\"\n",
              "              style=\"display:none;\">\n",
              "        \n",
              "  <svg xmlns=\"http://www.w3.org/2000/svg\" height=\"24px\"viewBox=\"0 0 24 24\"\n",
              "       width=\"24px\">\n",
              "    <path d=\"M0 0h24v24H0V0z\" fill=\"none\"/>\n",
              "    <path d=\"M18.56 5.44l.94 2.06.94-2.06 2.06-.94-2.06-.94-.94-2.06-.94 2.06-2.06.94zm-11 1L8.5 8.5l.94-2.06 2.06-.94-2.06-.94L8.5 2.5l-.94 2.06-2.06.94zm10 10l.94 2.06.94-2.06 2.06-.94-2.06-.94-.94-2.06-.94 2.06-2.06.94z\"/><path d=\"M17.41 7.96l-1.37-1.37c-.4-.4-.92-.59-1.43-.59-.52 0-1.04.2-1.43.59L10.3 9.45l-7.72 7.72c-.78.78-.78 2.05 0 2.83L4 21.41c.39.39.9.59 1.41.59.51 0 1.02-.2 1.41-.59l7.78-7.78 2.81-2.81c.8-.78.8-2.07 0-2.86zM5.41 20L4 18.59l7.72-7.72 1.47 1.35L5.41 20z\"/>\n",
              "  </svg>\n",
              "      </button>\n",
              "      \n",
              "  <style>\n",
              "    .colab-df-container {\n",
              "      display:flex;\n",
              "      flex-wrap:wrap;\n",
              "      gap: 12px;\n",
              "    }\n",
              "\n",
              "    .colab-df-convert {\n",
              "      background-color: #E8F0FE;\n",
              "      border: none;\n",
              "      border-radius: 50%;\n",
              "      cursor: pointer;\n",
              "      display: none;\n",
              "      fill: #1967D2;\n",
              "      height: 32px;\n",
              "      padding: 0 0 0 0;\n",
              "      width: 32px;\n",
              "    }\n",
              "\n",
              "    .colab-df-convert:hover {\n",
              "      background-color: #E2EBFA;\n",
              "      box-shadow: 0px 1px 2px rgba(60, 64, 67, 0.3), 0px 1px 3px 1px rgba(60, 64, 67, 0.15);\n",
              "      fill: #174EA6;\n",
              "    }\n",
              "\n",
              "    [theme=dark] .colab-df-convert {\n",
              "      background-color: #3B4455;\n",
              "      fill: #D2E3FC;\n",
              "    }\n",
              "\n",
              "    [theme=dark] .colab-df-convert:hover {\n",
              "      background-color: #434B5C;\n",
              "      box-shadow: 0px 1px 3px 1px rgba(0, 0, 0, 0.15);\n",
              "      filter: drop-shadow(0px 1px 2px rgba(0, 0, 0, 0.3));\n",
              "      fill: #FFFFFF;\n",
              "    }\n",
              "  </style>\n",
              "\n",
              "      <script>\n",
              "        const buttonEl =\n",
              "          document.querySelector('#df-ea67342d-7d06-4dda-96f4-1f8bddea59c9 button.colab-df-convert');\n",
              "        buttonEl.style.display =\n",
              "          google.colab.kernel.accessAllowed ? 'block' : 'none';\n",
              "\n",
              "        async function convertToInteractive(key) {\n",
              "          const element = document.querySelector('#df-ea67342d-7d06-4dda-96f4-1f8bddea59c9');\n",
              "          const dataTable =\n",
              "            await google.colab.kernel.invokeFunction('convertToInteractive',\n",
              "                                                     [key], {});\n",
              "          if (!dataTable) return;\n",
              "\n",
              "          const docLinkHtml = 'Like what you see? Visit the ' +\n",
              "            '<a target=\"_blank\" href=https://colab.research.google.com/notebooks/data_table.ipynb>data table notebook</a>'\n",
              "            + ' to learn more about interactive tables.';\n",
              "          element.innerHTML = '';\n",
              "          dataTable['output_type'] = 'display_data';\n",
              "          await google.colab.output.renderOutput(dataTable, element);\n",
              "          const docLink = document.createElement('div');\n",
              "          docLink.innerHTML = docLinkHtml;\n",
              "          element.appendChild(docLink);\n",
              "        }\n",
              "      </script>\n",
              "    </div>\n",
              "  </div>\n",
              "  "
            ]
          },
          "metadata": {},
          "execution_count": 3
        }
      ]
    },
    {
      "cell_type": "markdown",
      "source": [
        "## Use elbow method to determine the best cluster number."
      ],
      "metadata": {
        "id": "YDaO8KopONBP"
      }
    },
    {
      "cell_type": "code",
      "source": [
        "# Impoet the KMeans library.\n",
        "from sklearn.cluster import KMeans"
      ],
      "metadata": {
        "id": "rsT6nkTsGeO4"
      },
      "execution_count": 4,
      "outputs": []
    },
    {
      "cell_type": "code",
      "source": [
        "# Define a function to get the sum of square error list from 1 to 14 clusters.\n",
        "def calculate_sum_of_square_error(df):\n",
        "  sum_of_square_error_list = []\n",
        "  for i in range(1,15):\n",
        "    kmeans = KMeans(n_clusters=i)\n",
        "    kmeans.fit(df)\n",
        "    sum_of_square_error_list.append(kmeans.inertia_)\n",
        "  return sum_of_square_error_list"
      ],
      "metadata": {
        "id": "VBMJDU0NHgX5"
      },
      "execution_count": 5,
      "outputs": []
    },
    {
      "cell_type": "code",
      "source": [
        "# Call the method by the dataframe.\n",
        "sum_of_square_error_list = calculate_sum_of_square_error(df)"
      ],
      "metadata": {
        "id": "QmHfiIe7IpnO"
      },
      "execution_count": 6,
      "outputs": []
    },
    {
      "cell_type": "code",
      "source": [
        "# Plot the sum of square error by different cluster number.\n",
        "plt.figure(figsize=(12,6))\n",
        "plt.plot(range(1,15), sum_of_square_error_list)\n",
        "plt.title('Elbow Method to Fine The Best Cluster Number')\n",
        "plt.xlabel('Cluster Number')\n",
        "plt.ylabel('Sum of Square Error')"
      ],
      "metadata": {
        "colab": {
          "base_uri": "https://localhost:8080/",
          "height": 421
        },
        "id": "Fgfb2iZaIvx5",
        "outputId": "f6c2da72-3c6f-468d-8d38-134229ce7cd2"
      },
      "execution_count": 7,
      "outputs": [
        {
          "output_type": "execute_result",
          "data": {
            "text/plain": [
              "Text(0, 0.5, 'Sum of Square Error')"
            ]
          },
          "metadata": {},
          "execution_count": 7
        },
        {
          "output_type": "display_data",
          "data": {
            "text/plain": [
              "<Figure size 864x432 with 1 Axes>"
            ],
            "image/png": "[encoded data removed]"
          },
          "metadata": {
            "needs_background": "light"
          }
        }
      ]
    },
    {
      "cell_type": "code",
      "source": [
        "# Install the kneed package.\n",
        "!pip install kneed"
      ],
      "metadata": {
        "colab": {
          "base_uri": "https://localhost:8080/"
        },
        "id": "JZLIlMoZK1kL",
        "outputId": "dbbf077f-818d-45d4-f24f-6df1584371a5"
      },
      "execution_count": 8,
      "outputs": [
        {
          "output_type": "stream",
          "name": "stdout",
          "text": [
            "Looking in indexes: https://pypi.org/simple, https://us-python.pkg.dev/colab-wheels/public/simple/\n",
            "Collecting kneed\n",
            "  Downloading kneed-0.8.2-py3-none-any.whl (10 kB)\n",
            "Requirement already satisfied: numpy>=1.14.2 in /usr/local/lib/python3.8/dist-packages (from kneed) (1.21.6)\n",
            "Requirement already satisfied: scipy>=1.0.0 in /usr/local/lib/python3.8/dist-packages (from kneed) (1.7.3)\n",
            "Installing collected packages: kneed\n",
            "Successfully installed kneed-0.8.2\n"
          ]
        }
      ]
    },
    {
      "cell_type": "code",
      "source": [
        "# Import the KneeLocator library.\n",
        "from kneed import KneeLocator"
      ],
      "metadata": {
        "id": "bfBFZu8YK_fs"
      },
      "execution_count": 9,
      "outputs": []
    },
    {
      "cell_type": "code",
      "source": [
        "# Define the knee instance by the sum of square error and the corresponding cluster number.\n",
        "knee = KneeLocator(range(1,15), sum_of_square_error_list,curve='convex', direction='decreasing')\n",
        "# Display the elbow.\n",
        "knee.elbow"
      ],
      "metadata": {
        "colab": {
          "base_uri": "https://localhost:8080/"
        },
        "id": "44w58hbuLOLG",
        "outputId": "8ea139f6-5274-4918-c644-9b58841d1a30"
      },
      "execution_count": 10,
      "outputs": [
        {
          "output_type": "execute_result",
          "data": {
            "text/plain": [
              "3"
            ]
          },
          "metadata": {},
          "execution_count": 10
        }
      ]
    },
    {
      "cell_type": "markdown",
      "source": [
        "## Use silhouette method to determine the best cluster number."
      ],
      "metadata": {
        "id": "wxQUvC0eV6ML"
      }
    },
    {
      "cell_type": "code",
      "source": [
        "# Import the silouette evaluation library.\n",
        "from sklearn.metrics import silhouette_score"
      ],
      "metadata": {
        "id": "QvtByqyuU9h3"
      },
      "execution_count": 11,
      "outputs": []
    },
    {
      "cell_type": "code",
      "source": [
        "# Get all the silhouetter score.\n",
        "silhouette_score_list = []\n",
        "for n in range(2,15):\n",
        "  kmeans = KMeans(n_clusters=n)\n",
        "  kmeans.fit(df)\n",
        "  score = silhouette_score(df, kmeans.labels_)\n",
        "  silhouette_score_list.append(score)"
      ],
      "metadata": {
        "id": "iEOOIcj3VP0i"
      },
      "execution_count": 12,
      "outputs": []
    },
    {
      "cell_type": "code",
      "source": [
        "# Plot the scores.\n",
        "plt.plot(range(2,15), silhouette_score_list)\n",
        "plt.xlabel('k')\n",
        "plt.ylabel('Silhoutte score')\n",
        "plt.title('Silhouette score method to find k')\n",
        "plt.show()"
      ],
      "metadata": {
        "colab": {
          "base_uri": "https://localhost:8080/",
          "height": 295
        },
        "id": "xTdEtYQsWLLr",
        "outputId": "258fffb8-56e4-450f-fefd-039c23b23077"
      },
      "execution_count": 13,
      "outputs": [
        {
          "output_type": "display_data",
          "data": {
            "text/plain": [
              "<Figure size 432x288 with 1 Axes>"
            ],
            "image/png": "[encoded data removed]"
          },
          "metadata": {
            "needs_background": "light"
          }
        }
      ]
    },
    {
      "cell_type": "markdown",
      "source": [
        "## Prepare the pipeline."
      ],
      "metadata": {
        "id": "MU2bcX8VWqLq"
      }
    },
    {
      "cell_type": "code",
      "source": [
        "# Import PCA library.\n",
        "from sklearn.decomposition import PCA"
      ],
      "metadata": {
        "id": "YQOYnvEFyK98"
      },
      "execution_count": 14,
      "outputs": []
    },
    {
      "cell_type": "code",
      "source": [
        "# Import MinMax scaler library.\n",
        "from sklearn.preprocessing import MinMaxScaler"
      ],
      "metadata": {
        "id": "R7iT8hDoGHih"
      },
      "execution_count": 15,
      "outputs": []
    },
    {
      "cell_type": "code",
      "source": [
        "# Declare an AgglomerativeClustering instance.\n",
        "from sklearn.cluster import AgglomerativeClustering\n",
        "ac = AgglomerativeClustering(n_clusters=3)"
      ],
      "metadata": {
        "id": "fEY76dyYLaJK"
      },
      "execution_count": 16,
      "outputs": []
    },
    {
      "cell_type": "code",
      "source": [
        "# Declare an KMeans instance.\n",
        "from sklearn.cluster import KMeans\n",
        "km = KMeans(n_clusters=3)"
      ],
      "metadata": {
        "id": "9SfKYn91X2ID"
      },
      "execution_count": 17,
      "outputs": []
    },
    {
      "cell_type": "code",
      "source": [
        "# Declare an SpectralClustering instance.\n",
        "from sklearn.cluster import SpectralClustering\n",
        "sc = SpectralClustering(n_clusters=3)"
      ],
      "metadata": {
        "id": "tQYKuOHDYojR"
      },
      "execution_count": 18,
      "outputs": []
    },
    {
      "cell_type": "code",
      "source": [
        "# Declare the algorism, pipelines and pipeline names list.\n",
        "clustering_algorism_list = [ac, km, sc]\n",
        "pipelines = []\n",
        "pipline_name_list = ['Agglomerative', 'KMeans', 'Spectral']"
      ],
      "metadata": {
        "id": "GsiVSoi1Y7hQ"
      },
      "execution_count": 19,
      "outputs": []
    },
    {
      "cell_type": "code",
      "source": [
        "# Import pipeline library.\n",
        "from sklearn.pipeline import Pipeline"
      ],
      "metadata": {
        "id": "Ho6VfLLnZxU9"
      },
      "execution_count": 20,
      "outputs": []
    },
    {
      "cell_type": "code",
      "source": [
        "# Build the pipelines list.\n",
        "for clustering_algorism in clustering_algorism_list:\n",
        "  pipeline = Pipeline([\n",
        "      ('PCA', PCA(n_components=2)),\n",
        "      ('Scale', MinMaxScaler()),\n",
        "      ('Cluster Algorism', clustering_algorism)\n",
        "  ])\n",
        "  pipelines.append(pipeline)"
      ],
      "metadata": {
        "id": "IMQ6DKu6ZnYZ"
      },
      "execution_count": 21,
      "outputs": []
    },
    {
      "cell_type": "code",
      "source": [
        "# Import clustring evaluation libraries.\n",
        "from sklearn.metrics import silhouette_score, calinski_harabasz_score, davies_bouldin_score"
      ],
      "metadata": {
        "id": "kwvFViQBc6md"
      },
      "execution_count": 22,
      "outputs": []
    },
    {
      "cell_type": "code",
      "source": [
        "# Declare scores list.\n",
        "silhouette_score_list = []\n",
        "carlinszky_harabaz_score_list = []\n",
        "davies_bouldin_score = []"
      ],
      "metadata": {
        "id": "BnOk5jRfgC4a"
      },
      "execution_count": 23,
      "outputs": []
    },
    {
      "cell_type": "code",
      "source": [
        "# Implement pipelines.\n",
        "for pipeline in pipelines:\n",
        "  cluster = pipeline.fit_predict(df)\n",
        "  sh = silhouette_score(df, cluster, metric='euclidean')\n",
        "  ch = calinski_harabasz_score(df, cluster)\n",
        "  # db = davies_bouldin_score(df, cluster)\n",
        "  silhouette_score_list.append(sh)\n",
        "  carlinszky_harabaz_score_list.append(ch)\n",
        "  # davies_bouldin_score.append(db)"
      ],
      "metadata": {
        "id": "ODSZj7-qe5E3"
      },
      "execution_count": 24,
      "outputs": []
    },
    {
      "cell_type": "code",
      "source": [
        "# Merge all the scores and sort.\n",
        "result = pd.DataFrame(zip(pipline_name_list, silhouette_score_list, carlinszky_harabaz_score_list), \n",
        "                      columns=[\"clustering name\", \"silhouette score\", \"callinszky score\"])\n",
        "result.sort_values(by=[\"silhouette score\", \"callinszky score\"], ascending=[False, False])"
      ],
      "metadata": {
        "colab": {
          "base_uri": "https://localhost:8080/",
          "height": 143
        },
        "id": "-WHFGflYglO9",
        "outputId": "a51477b4-a92a-40db-d35d-fbdde517ec4b"
      },
      "execution_count": 25,
      "outputs": [
        {
          "output_type": "execute_result",
          "data": {
            "text/plain": [
              "  clustering name  silhouette score  callinszky score\n",
              "2        Spectral          0.820674       1128.501970\n",
              "1          KMeans          0.807503       2389.362255\n",
              "0   Agglomerative          0.803115       2244.641793"
            ],
            "text/html": [
              "\n",
              "  <div id=\"df-b8610fc3-7c5b-4a48-91f2-a797c2027364\">\n",
              "    <div class=\"colab-df-container\">\n",
              "      <div>\n",
              "<style scoped>\n",
              "    .dataframe tbody tr th:only-of-type {\n",
              "        vertical-align: middle;\n",
              "    }\n",
              "\n",
              "    .dataframe tbody tr th {\n",
              "        vertical-align: top;\n",
              "    }\n",
              "\n",
              "    .dataframe thead th {\n",
              "        text-align: right;\n",
              "    }\n",
              "</style>\n",
              "<table border=\"1\" class=\"dataframe\">\n",
              "  <thead>\n",
              "    <tr style=\"text-align: right;\">\n",
              "      <th></th>\n",
              "      <th>clustering name</th>\n",
              "      <th>silhouette score</th>\n",
              "      <th>callinszky score</th>\n",
              "    </tr>\n",
              "  </thead>\n",
              "  <tbody>\n",
              "    <tr>\n",
              "      <th>2</th>\n",
              "      <td>Spectral</td>\n",
              "      <td>0.820674</td>\n",
              "      <td>1128.501970</td>\n",
              "    </tr>\n",
              "    <tr>\n",
              "      <th>1</th>\n",
              "      <td>KMeans</td>\n",
              "      <td>0.807503</td>\n",
              "      <td>2389.362255</td>\n",
              "    </tr>\n",
              "    <tr>\n",
              "      <th>0</th>\n",
              "      <td>Agglomerative</td>\n",
              "      <td>0.803115</td>\n",
              "      <td>2244.641793</td>\n",
              "    </tr>\n",
              "  </tbody>\n",
              "</table>\n",
              "</div>\n",
              "      <button class=\"colab-df-convert\" onclick=\"convertToInteractive('df-b8610fc3-7c5b-4a48-91f2-a797c2027364')\"\n",
              "              title=\"Convert this dataframe to an interactive table.\"\n",
              "              style=\"display:none;\">\n",
              "        \n",
              "  <svg xmlns=\"http://www.w3.org/2000/svg\" height=\"24px\"viewBox=\"0 0 24 24\"\n",
              "       width=\"24px\">\n",
              "    <path d=\"M0 0h24v24H0V0z\" fill=\"none\"/>\n",
              "    <path d=\"M18.56 5.44l.94 2.06.94-2.06 2.06-.94-2.06-.94-.94-2.06-.94 2.06-2.06.94zm-11 1L8.5 8.5l.94-2.06 2.06-.94-2.06-.94L8.5 2.5l-.94 2.06-2.06.94zm10 10l.94 2.06.94-2.06 2.06-.94-2.06-.94-.94-2.06-.94 2.06-2.06.94z\"/><path d=\"M17.41 7.96l-1.37-1.37c-.4-.4-.92-.59-1.43-.59-.52 0-1.04.2-1.43.59L10.3 9.45l-7.72 7.72c-.78.78-.78 2.05 0 2.83L4 21.41c.39.39.9.59 1.41.59.51 0 1.02-.2 1.41-.59l7.78-7.78 2.81-2.81c.8-.78.8-2.07 0-2.86zM5.41 20L4 18.59l7.72-7.72 1.47 1.35L5.41 20z\"/>\n",
              "  </svg>\n",
              "      </button>\n",
              "      \n",
              "  <style>\n",
              "    .colab-df-container {\n",
              "      display:flex;\n",
              "      flex-wrap:wrap;\n",
              "      gap: 12px;\n",
              "    }\n",
              "\n",
              "    .colab-df-convert {\n",
              "      background-color: #E8F0FE;\n",
              "      border: none;\n",
              "      border-radius: 50%;\n",
              "      cursor: pointer;\n",
              "      display: none;\n",
              "      fill: #1967D2;\n",
              "      height: 32px;\n",
              "      padding: 0 0 0 0;\n",
              "      width: 32px;\n",
              "    }\n",
              "\n",
              "    .colab-df-convert:hover {\n",
              "      background-color: #E2EBFA;\n",
              "      box-shadow: 0px 1px 2px rgba(60, 64, 67, 0.3), 0px 1px 3px 1px rgba(60, 64, 67, 0.15);\n",
              "      fill: #174EA6;\n",
              "    }\n",
              "\n",
              "    [theme=dark] .colab-df-convert {\n",
              "      background-color: #3B4455;\n",
              "      fill: #D2E3FC;\n",
              "    }\n",
              "\n",
              "    [theme=dark] .colab-df-convert:hover {\n",
              "      background-color: #434B5C;\n",
              "      box-shadow: 0px 1px 3px 1px rgba(0, 0, 0, 0.15);\n",
              "      filter: drop-shadow(0px 1px 2px rgba(0, 0, 0, 0.3));\n",
              "      fill: #FFFFFF;\n",
              "    }\n",
              "  </style>\n",
              "\n",
              "      <script>\n",
              "        const buttonEl =\n",
              "          document.querySelector('#df-b8610fc3-7c5b-4a48-91f2-a797c2027364 button.colab-df-convert');\n",
              "        buttonEl.style.display =\n",
              "          google.colab.kernel.accessAllowed ? 'block' : 'none';\n",
              "\n",
              "        async function convertToInteractive(key) {\n",
              "          const element = document.querySelector('#df-b8610fc3-7c5b-4a48-91f2-a797c2027364');\n",
              "          const dataTable =\n",
              "            await google.colab.kernel.invokeFunction('convertToInteractive',\n",
              "                                                     [key], {});\n",
              "          if (!dataTable) return;\n",
              "\n",
              "          const docLinkHtml = 'Like what you see? Visit the ' +\n",
              "            '<a target=\"_blank\" href=https://colab.research.google.com/notebooks/data_table.ipynb>data table notebook</a>'\n",
              "            + ' to learn more about interactive tables.';\n",
              "          element.innerHTML = '';\n",
              "          dataTable['output_type'] = 'display_data';\n",
              "          await google.colab.output.renderOutput(dataTable, element);\n",
              "          const docLink = document.createElement('div');\n",
              "          docLink.innerHTML = docLinkHtml;\n",
              "          element.appendChild(docLink);\n",
              "        }\n",
              "      </script>\n",
              "    </div>\n",
              "  </div>\n",
              "  "
            ]
          },
          "metadata": {},
          "execution_count": 25
        }
      ]
    },
    {
      "cell_type": "markdown",
      "source": [
        "## Use the best algorism to implement clustring."
      ],
      "metadata": {
        "id": "DB-WesZOXwAm"
      }
    },
    {
      "cell_type": "code",
      "source": [
        "# Declare the PCA and scale pipeline.\n",
        "preprocessing_pipeline = Pipeline([\n",
        "    ('PCA', PCA(n_components=2)),\n",
        "    ('Scale', MinMaxScaler())\n",
        "])"
      ],
      "metadata": {
        "id": "mSA_5zuJnHWC"
      },
      "execution_count": 26,
      "outputs": []
    },
    {
      "cell_type": "code",
      "source": [
        "# Create the PCA dataframe.\n",
        "df_pca = pd.DataFrame(\n",
        "    preprocessing_pipeline.fit_transform(df),\n",
        "    columns=['Component 1', 'Component 2']\n",
        ")"
      ],
      "metadata": {
        "id": "66d1CU__oXu7"
      },
      "execution_count": 27,
      "outputs": []
    },
    {
      "cell_type": "code",
      "source": [
        "# Get labels of each instance.\n",
        "df_pca['Prediction'] = clustering_algorism_list[2].labels_"
      ],
      "metadata": {
        "id": "hChuQcWZovU6"
      },
      "execution_count": 28,
      "outputs": []
    },
    {
      "cell_type": "code",
      "source": [
        "# Plot the clustring.\n",
        "sns.scatterplot(data = df_pca, x='Component 1', y='Component 2', hue='Prediction')"
      ],
      "metadata": {
        "colab": {
          "base_uri": "https://localhost:8080/",
          "height": 296
        },
        "id": "Pi0F9NjcqhCc",
        "outputId": "64365f7e-e5b8-418f-a02d-99143e6e84be"
      },
      "execution_count": 29,
      "outputs": [
        {
          "output_type": "execute_result",
          "data": {
            "text/plain": [
              "<matplotlib.axes._subplots.AxesSubplot at 0x7f0bb821bac0>"
            ]
          },
          "metadata": {},
          "execution_count": 29
        },
        {
          "output_type": "display_data",
          "data": {
            "text/plain": [
              "<Figure size 432x288 with 1 Axes>"
            ],
            "image/png": "[encoded data removed]"
          },
          "metadata": {
            "needs_background": "light"
          }
        }
      ]
    }
  ]
}